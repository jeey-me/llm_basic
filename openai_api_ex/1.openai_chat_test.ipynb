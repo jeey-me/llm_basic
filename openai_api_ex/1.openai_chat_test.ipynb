{
 "cells": [
  {
   "cell_type": "code",
   "execution_count": 13,
   "id": "541f751b-6a61-4c78-ace2-5f758a362664",
   "metadata": {},
   "outputs": [],
   "source": [
    "import os\n",
    "from dotenv import load_dotenv\n",
    "\n",
    "load_dotenv()  # .env 파일 로드\n",
    "\n",
    "api_key = os.getenv(\"API_KEY\")\n",
    "# print(api_key)"
   ]
  },
  {
   "cell_type": "markdown",
   "id": "fe95ae46",
   "metadata": {},
   "source": [
    "# CHAT 서비스"
   ]
  },
  {
   "cell_type": "code",
   "execution_count": 14,
   "id": "1bd4c095",
   "metadata": {},
   "outputs": [
    {
     "name": "stdout",
     "output_type": "stream",
     "text": [
      "안녕! 오랜만이네요. 어떻게 지냈어요? 무슨 이야기를 나누고 싶으세요?\n"
     ]
    }
   ],
   "source": [
    "from openai import OpenAI\n",
    "client = OpenAI()\n",
    "\n",
    "response = client.responses.create(\n",
    "    # model=\"gpt-4.1\",\n",
    "    model=\"gpt-3.5-turbo-0125\",\n",
    "    input=\"안녕, 오랜만이야\"\n",
    ")\n",
    "\n",
    "print(response.output_text)"
   ]
  },
  {
   "cell_type": "markdown",
   "id": "a40b27a9",
   "metadata": {},
   "source": [
    "# 이미지 생성"
   ]
  },
  {
   "cell_type": "code",
   "execution_count": 15,
   "id": "f1c0f971",
   "metadata": {},
   "outputs": [
    {
     "name": "stdout",
     "output_type": "stream",
     "text": [
      "이미지 생성 완료!\n"
     ]
    }
   ],
   "source": [
    "from openai import OpenAI\n",
    "import requests\n",
    "\n",
    "client = OpenAI()\n",
    "\n",
    "img = client.images.generate(\n",
    "    model=\"dall-e-3\",\n",
    "    prompt=\"A cute baby sea otter\",\n",
    "    n=1,\n",
    "    size=\"1024x1024\"\n",
    ")\n",
    "\n",
    "# 이미지 URL 추출\n",
    "img_url = img.data[0].url\n",
    "\n",
    "# 다운로드\n",
    "response = requests.get(img_url)\n",
    "with open(\"output.png\", \"wb\") as f:\n",
    "    f.write(response.content)\n",
    "\n",
    "print(\"이미지 생성 완료!\")\n"
   ]
  },
  {
   "cell_type": "code",
   "execution_count": 16,
   "id": "85506cc2",
   "metadata": {},
   "outputs": [
    {
     "ename": "NameError",
     "evalue": "name 'image_url' is not defined",
     "output_type": "error",
     "traceback": [
      "\u001b[1;31m---------------------------------------------------------------------------\u001b[0m",
      "\u001b[1;31mNameError\u001b[0m                                 Traceback (most recent call last)",
      "Cell \u001b[1;32mIn[16], line 2\u001b[0m\n\u001b[0;32m      1\u001b[0m \u001b[38;5;28;01mimport\u001b[39;00m\u001b[38;5;250m \u001b[39m\u001b[38;5;21;01mrequests\u001b[39;00m\n\u001b[1;32m----> 2\u001b[0m image_response \u001b[38;5;241m=\u001b[39m requests\u001b[38;5;241m.\u001b[39mget(\u001b[43mimage_url\u001b[49m)\n\u001b[0;32m      4\u001b[0m \u001b[38;5;28;01mif\u001b[39;00m image_response\u001b[38;5;241m.\u001b[39mstatus_code \u001b[38;5;241m==\u001b[39m \u001b[38;5;241m200\u001b[39m:\n\u001b[0;32m      5\u001b[0m     \u001b[38;5;28;01mwith\u001b[39;00m \u001b[38;5;28mopen\u001b[39m(\u001b[38;5;124m\"\u001b[39m\u001b[38;5;124mimages/kid_poodle.png\u001b[39m\u001b[38;5;124m\"\u001b[39m, \u001b[38;5;124m\"\u001b[39m\u001b[38;5;124mwb\u001b[39m\u001b[38;5;124m\"\u001b[39m) \u001b[38;5;28;01mas\u001b[39;00m f:\n",
      "\u001b[1;31mNameError\u001b[0m: name 'image_url' is not defined"
     ]
    }
   ],
   "source": [
    "import requests\n",
    "image_response = requests.get(image_url)\n",
    "\n",
    "if image_response.status_code == 200:\n",
    "    with open(\"images/kid_poodle.png\", \"wb\") as f:\n",
    "        f.write(image_response.content)\n",
    "    print(\"Image saved as cat_otter_image.png\")\n",
    "else:\n",
    "    print(\"Failed to download the image.\")"
   ]
  },
  {
   "cell_type": "code",
   "execution_count": null,
   "id": "cec03fb6",
   "metadata": {},
   "outputs": [],
   "source": []
  }
 ],
 "metadata": {
  "kernelspec": {
   "display_name": "llm_env",
   "language": "python",
   "name": "python3"
  },
  "language_info": {
   "codemirror_mode": {
    "name": "ipython",
    "version": 3
   },
   "file_extension": ".py",
   "mimetype": "text/x-python",
   "name": "python",
   "nbconvert_exporter": "python",
   "pygments_lexer": "ipython3",
   "version": "3.12.9"
  }
 },
 "nbformat": 4,
 "nbformat_minor": 5
}
